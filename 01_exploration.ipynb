{
 "cells": [
  {
   "attachments": {},
   "cell_type": "markdown",
   "metadata": {},
   "source": [
    "#  🐕 Dog breed recognition \n",
    "\n",
    "|   |   |\n",
    "|---|---|\n",
    "| Project  |    [Classez des images à l'aide d'algorithmes de Deep Learning](https://openclassrooms.com/fr/paths/148/projects/634/assignment)         |\n",
    "| Date   |   March 2023   |\n",
    "| Autor  | Ana Bernal                                                    |\n",
    "| Data source | [Stanford Dogs Dataset](http://vision.stanford.edu/aditya86/ImageNetDogs/) |\n",
    "| Mentor | Samir Tanfous | \n",
    "| Notebook number  | 1 of _                                                    |\n",
    "\n",
    "**Description:** In this notebook we "
   ]
  },
  {
   "attachments": {},
   "cell_type": "markdown",
   "metadata": {},
   "source": [
    "# Imports"
   ]
  },
  {
   "cell_type": "code",
   "execution_count": 1,
   "metadata": {},
   "outputs": [],
   "source": [
    "import os\n",
    "from PIL import Image\n",
    "import pandas as pd\n"
   ]
  },
  {
   "attachments": {},
   "cell_type": "markdown",
   "metadata": {},
   "source": [
    "# Exploration of data"
   ]
  },
  {
   "cell_type": "code",
   "execution_count": 2,
   "metadata": {},
   "outputs": [],
   "source": [
    "images_path = './data/images'"
   ]
  },
  {
   "cell_type": "code",
   "execution_count": 3,
   "metadata": {},
   "outputs": [
    {
     "name": "stdout",
     "output_type": "stream",
     "text": [
      "Total number of breeds: 120\n",
      "Sample of 10 breed names:\n"
     ]
    },
    {
     "data": {
      "text/plain": [
       "['Chihuahua',\n",
       " 'Japanese_spaniel',\n",
       " 'Maltese_dog',\n",
       " 'Pekinese',\n",
       " 'Shih',\n",
       " 'Blenheim_spaniel',\n",
       " 'papillon',\n",
       " 'toy_terrier',\n",
       " 'Rhodesian_ridgeback',\n",
       " 'Afghan_hound']"
      ]
     },
     "execution_count": 3,
     "metadata": {},
     "output_type": "execute_result"
    }
   ],
   "source": [
    "# List of directory names for all breeds\n",
    "breed_dir_names = os.listdir(path=images_path)\n",
    "breed_dir_names.sort()\n",
    "\n",
    "# List of breeds\n",
    "breed_names = [dir_name.split('-')[1] for dir_name in breed_dir_names]\n",
    "print(f'Total number of breeds: {len(breed_names)}')\n",
    "print('Sample of 10 breed names:')\n",
    "breed_names[:10]"
   ]
  },
  {
   "cell_type": "code",
   "execution_count": 4,
   "metadata": {},
   "outputs": [
    {
     "data": {
      "text/html": [
       "<div>\n",
       "<style scoped>\n",
       "    .dataframe tbody tr th:only-of-type {\n",
       "        vertical-align: middle;\n",
       "    }\n",
       "\n",
       "    .dataframe tbody tr th {\n",
       "        vertical-align: top;\n",
       "    }\n",
       "\n",
       "    .dataframe thead th {\n",
       "        text-align: right;\n",
       "    }\n",
       "</style>\n",
       "<table border=\"1\" class=\"dataframe\">\n",
       "  <thead>\n",
       "    <tr style=\"text-align: right;\">\n",
       "      <th></th>\n",
       "      <th>Breed</th>\n",
       "      <th>Nb_imgs</th>\n",
       "    </tr>\n",
       "  </thead>\n",
       "  <tbody>\n",
       "    <tr>\n",
       "      <th>0</th>\n",
       "      <td>Maltese_dog</td>\n",
       "      <td>252</td>\n",
       "    </tr>\n",
       "    <tr>\n",
       "      <th>1</th>\n",
       "      <td>Afghan_hound</td>\n",
       "      <td>239</td>\n",
       "    </tr>\n",
       "    <tr>\n",
       "      <th>2</th>\n",
       "      <td>Scottish_deerhound</td>\n",
       "      <td>232</td>\n",
       "    </tr>\n",
       "    <tr>\n",
       "      <th>3</th>\n",
       "      <td>Pomeranian</td>\n",
       "      <td>219</td>\n",
       "    </tr>\n",
       "    <tr>\n",
       "      <th>4</th>\n",
       "      <td>Bernese_mountain_dog</td>\n",
       "      <td>218</td>\n",
       "    </tr>\n",
       "  </tbody>\n",
       "</table>\n",
       "</div>"
      ],
      "text/plain": [
       "                  Breed  Nb_imgs\n",
       "0           Maltese_dog      252\n",
       "1          Afghan_hound      239\n",
       "2    Scottish_deerhound      232\n",
       "3            Pomeranian      219\n",
       "4  Bernese_mountain_dog      218"
      ]
     },
     "execution_count": 4,
     "metadata": {},
     "output_type": "execute_result"
    }
   ],
   "source": [
    "# Counting the number of images per breed\n",
    "nb_of_img = {}\n",
    "\n",
    "for name in breed_dir_names:\n",
    "    norm_name = name.split('-')[1]\n",
    "\n",
    "    _, _, filenames = next(os.walk(f'{images_path}/{name}'))\n",
    "    nb_files = len(filenames)\n",
    "\n",
    "    nb_of_img[norm_name] = nb_files\n",
    "\n",
    "# Dataframe for this count, sorted\n",
    "imgs_per_breed = pd.DataFrame({'Breed' : list(nb_of_img.keys()),\n",
    "                               'Nb_imgs' : list(nb_of_img.values())} )\n",
    "imgs_per_breed = imgs_per_breed.sort_values(by='Nb_imgs',ascending=False).reset_index(drop=True)\n",
    "imgs_per_breed.head()\n"
   ]
  },
  {
   "cell_type": "code",
   "execution_count": 5,
   "metadata": {},
   "outputs": [
    {
     "data": {
      "image/png": "[encoded data removed]",
      "text/plain": [
       "<Figure size 1080x360 with 1 Axes>"
      ]
     },
     "metadata": {
      "needs_background": "light"
     },
     "output_type": "display_data"
    }
   ],
   "source": [
    "import matplotlib.pyplot as plt\n",
    "\n",
    "fig = plt.figure(figsize=(15,5))\n",
    "\n",
    "plt.bar(x=imgs_per_breed.index,\n",
    "        height=imgs_per_breed.Nb_imgs,\n",
    "        color='dodgerblue',\n",
    "        alpha= 0.8)\n",
    "plt.axhline(y=150, linewidth=1, color='red')\n",
    "plt.text(x=121, y= 155, s='150', c='red' )\n",
    "plt.title('Distribution of # of imgs. per dog breed', size=15)\n",
    "plt.xlabel('All dog breeds (total: 120)')\n",
    "plt.tick_params(\n",
    "    axis='x',          # changes apply to the x-axis\n",
    "    which='both',      # both major and minor ticks are affected\n",
    "    bottom=False,      # ticks along the bottom edge are off\n",
    "    top=False,         # ticks along the top edge are off\n",
    "    labelbottom=False\n",
    "    )\n",
    "plt.ylabel('# of imgs.')\n",
    "\n",
    "plt.show()"
   ]
  },
  {
   "cell_type": "code",
   "execution_count": 33,
   "metadata": {},
   "outputs": [
    {
     "name": "stdout",
     "output_type": "stream",
     "text": [
      "Chihuahua \t 152\n",
      "Japanese_spaniel \t 185\n",
      "Maltese_dog \t 252\n",
      "Pekinese \t 149\n",
      "Shih \t 214\n",
      "Blenheim_spaniel \t 188\n",
      "papillon \t 196\n",
      "toy_terrier \t 172\n",
      "Rhodesian_ridgeback \t 172\n",
      "Afghan_hound \t 239\n",
      "basset \t 175\n",
      "beagle \t 195\n",
      "bloodhound \t 187\n",
      "bluetick \t 171\n",
      "black \t 159\n",
      "Walker_hound \t 153\n",
      "English_foxhound \t 157\n",
      "redbone \t 148\n",
      "borzoi \t 151\n",
      "Irish_wolfhound \t 218\n",
      "Italian_greyhound \t 182\n",
      "whippet \t 187\n",
      "Ibizan_hound \t 188\n",
      "Norwegian_elkhound \t 196\n",
      "otterhound \t 151\n",
      "Saluki \t 200\n",
      "Scottish_deerhound \t 232\n",
      "Weimaraner \t 160\n",
      "Staffordshire_bullterrier \t 155\n",
      "American_Staffordshire_terrier \t 164\n",
      "Bedlington_terrier \t 182\n",
      "Border_terrier \t 172\n",
      "Kerry_blue_terrier \t 179\n",
      "Irish_terrier \t 169\n",
      "Norfolk_terrier \t 172\n",
      "Norwich_terrier \t 185\n",
      "Yorkshire_terrier \t 164\n",
      "wire \t 157\n",
      "Lakeland_terrier \t 197\n",
      "Sealyham_terrier \t 202\n",
      "Airedale \t 202\n",
      "cairn \t 197\n",
      "Australian_terrier \t 196\n",
      "Dandie_Dinmont \t 180\n",
      "Boston_bull \t 182\n",
      "miniature_schnauzer \t 154\n",
      "giant_schnauzer \t 157\n",
      "standard_schnauzer \t 155\n",
      "Scotch_terrier \t 158\n",
      "Tibetan_terrier \t 206\n",
      "silky_terrier \t 183\n",
      "soft \t 156\n",
      "West_Highland_white_terrier \t 169\n",
      "Lhasa \t 186\n",
      "flat \t 152\n",
      "curly \t 151\n",
      "golden_retriever \t 150\n",
      "Labrador_retriever \t 171\n",
      "Chesapeake_Bay_retriever \t 167\n",
      "German_short \t 152\n",
      "vizsla \t 154\n",
      "English_setter \t 161\n",
      "Irish_setter \t 155\n",
      "Gordon_setter \t 153\n",
      "Brittany_spaniel \t 152\n",
      "clumber \t 150\n",
      "English_springer \t 159\n",
      "Welsh_springer_spaniel \t 150\n",
      "cocker_spaniel \t 159\n",
      "Sussex_spaniel \t 151\n",
      "Irish_water_spaniel \t 150\n",
      "kuvasz \t 150\n",
      "schipperke \t 154\n",
      "groenendael \t 150\n",
      "malinois \t 150\n",
      "briard \t 152\n",
      "kelpie \t 153\n",
      "komondor \t 154\n",
      "Old_English_sheepdog \t 169\n",
      "Shetland_sheepdog \t 157\n",
      "collie \t 153\n",
      "Border_collie \t 150\n",
      "Bouvier_des_Flandres \t 150\n",
      "Rottweiler \t 152\n",
      "German_shepherd \t 152\n",
      "Doberman \t 150\n",
      "miniature_pinscher \t 184\n",
      "Greater_Swiss_Mountain_dog \t 168\n",
      "Bernese_mountain_dog \t 218\n",
      "Appenzeller \t 151\n",
      "EntleBucher \t 202\n",
      "boxer \t 151\n",
      "bull_mastiff \t 156\n",
      "Tibetan_mastiff \t 152\n",
      "French_bulldog \t 159\n",
      "Great_Dane \t 156\n",
      "Saint_Bernard \t 170\n",
      "Eskimo_dog \t 150\n",
      "malamute \t 178\n",
      "Siberian_husky \t 192\n",
      "affenpinscher \t 150\n",
      "basenji \t 209\n",
      "pug \t 200\n",
      "Leonberg \t 210\n",
      "Newfoundland \t 195\n",
      "Great_Pyrenees \t 213\n",
      "Samoyed \t 218\n",
      "Pomeranian \t 219\n",
      "chow \t 196\n",
      "keeshond \t 158\n",
      "Brabancon_griffon \t 153\n",
      "Pembroke \t 181\n",
      "Cardigan \t 155\n",
      "toy_poodle \t 151\n",
      "miniature_poodle \t 155\n",
      "standard_poodle \t 159\n",
      "Mexican_hairless \t 155\n",
      "dingo \t 156\n",
      "dhole \t 150\n",
      "African_hunting_dog \t 169\n"
     ]
    }
   ],
   "source": [
    "for key, value in nb_of_img.items():\n",
    "    print(key, '\\t', value)"
   ]
  },
  {
   "cell_type": "code",
   "execution_count": 23,
   "metadata": {},
   "outputs": [],
   "source": [
    "name = breed_dir_names[0]\n",
    "_, _, filenames = next(os.walk(f'{images_path}/{name}'))"
   ]
  },
  {
   "cell_type": "code",
   "execution_count": 26,
   "metadata": {},
   "outputs": [
    {
     "data": {
      "text/plain": [
       "152"
      ]
     },
     "execution_count": 26,
     "metadata": {},
     "output_type": "execute_result"
    }
   ],
   "source": [
    "len(filenames)"
   ]
  },
  {
   "cell_type": "code",
   "execution_count": null,
   "metadata": {},
   "outputs": [],
   "source": []
  }
 ],
 "metadata": {
  "kernelspec": {
   "display_name": "Python 3",
   "language": "python",
   "name": "python3"
  },
  "language_info": {
   "codemirror_mode": {
    "name": "ipython",
    "version": 3
   },
   "file_extension": ".py",
   "mimetype": "text/x-python",
   "name": "python",
   "nbconvert_exporter": "python",
   "pygments_lexer": "ipython3",
   "version": "3.10.6"
  },
  "orig_nbformat": 4
 },
 "nbformat": 4,
 "nbformat_minor": 2
}
